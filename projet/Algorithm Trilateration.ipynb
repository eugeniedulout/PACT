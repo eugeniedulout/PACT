{
 "cells": [
  {
   "cell_type": "code",
   "execution_count": 80,
   "metadata": {
    "scrolled": false
   },
   "outputs": [
    {
     "name": "stdout",
     "output_type": "stream",
     "text": [
      "coord :  0.001819740733647695   0.9992457637629363\n",
      "[[-0.00183868  0.00141945]]\n"
     ]
    },
    {
     "data": {
      "image/png": "[encoded data removed]",
      "text/plain": [
       "<Figure size 432x288 with 1 Axes>"
      ]
     },
     "metadata": {
      "needs_background": "light"
     },
     "output_type": "display_data"
    }
   ],
   "source": [
    "import numpy as np\n",
    "import matplotlib.pyplot as plt\n",
    "import math\n",
    "\n",
    "\n",
    "    \n",
    "class point(object):\n",
    "    def __init__(self, x, y):\n",
    "        self.coord = np.array([x,y])\n",
    "        \n",
    "\n",
    "class circle(object):\n",
    "    def __init__(self, point, radius):\n",
    "        self.center = point\n",
    "        self.radius = radius\n",
    "    \n",
    "def init_p():\n",
    "    return point(5,15)\n",
    "\n",
    "def PX(p,c):\n",
    "    px = c.center.coord - p.coord\n",
    "    return (px*(1-(c.radius/np.linalg.norm(px))))\n",
    "\n",
    "def trilateration(p,circles):\n",
    "    pn = np.zeros([1,2])\n",
    "    ln = len(circles)\n",
    "    for i in range(ln):\n",
    "        pn += PX(p,circles[i])\n",
    "    return pn / ln \n",
    "\n",
    "def resCoord(n,p,circles):\n",
    "    for i in range(n):\n",
    "        p.coord = p.coord + trilateration(p,circle_list)\n",
    "        plt.plot(p.coord[0,0],p.coord[0,1],\"x\")\n",
    "    return p.coord[0,0],p.coord[0,1]\n",
    "    \n",
    "if __name__ == '__main__' :\n",
    "    \n",
    "    p = init_p()\n",
    "    \n",
    "    p1 = point(-3.38, 3.61)\n",
    "    p2 = point(8,3.8)\n",
    "    p3 = point(-4,-4)\n",
    "\n",
    "    c1 = circle(p1, 4.27)\n",
    "    c2 = circle(p2, 8.47)\n",
    "    c3 = circle(p3, 6.4)\n",
    "    \n",
    "    figure, axes = plt.subplots()\n",
    "    \n",
    "    MC1 = plt.Circle((c1.center.coord[0], c1.center.coord[1]), c1.radius,fill=False)\n",
    "    MC2 = plt.Circle((c2.center.coord[0], c2.center.coord[1]), c2.radius,fill=False)\n",
    "    MC3 = plt.Circle((c3.center.coord[0], c3.center.coord[1]), c3.radius,fill=False)\n",
    "\n",
    "    circle_list = [c1, c2, c3]\n",
    "    \n",
    "    X ,Y = resCoord(100,p,circle_list)\n",
    "    print(\"coord : \",X,\" \",Y)\n",
    "    #print(PX(p,c1))\n",
    "    \n",
    "    \n",
    "    plt.xlabel('x')         # Nom de la grandeur en abscisse\n",
    "    plt.xlim(-15,15)        # Echelle sur l'axe des x\n",
    "    plt.ylabel('y')         # Nom de la grandeur en ordonnée\n",
    "    plt.ylim(-15,18)        # Echelle sur l'axe des y\n",
    "    plt.grid()     \n",
    "    axes.add_artist(MC1)\n",
    "    axes.add_artist(MC2)\n",
    "    axes.add_artist(MC3)\n",
    "    plt.plot(5,15,\"x\")\n",
    "    plt.plot(X,Y,\"X\")\n",
    "\n",
    "    plt.title(\"Trilateration avec 3 beacons\")\n",
    "    plt.show()\n",
    "    \n",
    "    \n",
    "    "
   ]
  },
  {
   "cell_type": "code",
   "execution_count": null,
   "metadata": {},
   "outputs": [],
   "source": []
  },
  {
   "cell_type": "code",
   "execution_count": null,
   "metadata": {},
   "outputs": [],
   "source": []
  }
 ],
 "metadata": {
  "kernelspec": {
   "display_name": "Python 3",
   "language": "python",
   "name": "python3"
  },
  "language_info": {
   "codemirror_mode": {
    "name": "ipython",
    "version": 3
   },
   "file_extension": ".py",
   "mimetype": "text/x-python",
   "name": "python",
   "nbconvert_exporter": "python",
   "pygments_lexer": "ipython3",
   "version": "3.8.5"
  }
 },
 "nbformat": 4,
 "nbformat_minor": 4
}
